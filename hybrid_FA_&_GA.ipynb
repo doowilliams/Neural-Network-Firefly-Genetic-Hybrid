{
 "cells": [
  {
   "cell_type": "code",
   "execution_count": 1,
   "metadata": {
    "colab": {
     "base_uri": "https://localhost:8080/",
     "height": 600
    },
    "id": "AQ5Mqsrl0C0N",
    "outputId": "e473d244-311e-4dd5-ead3-446f5b3945be"
   },
   "outputs": [
    {
     "data": {
      "text/html": [
       "<div>\n",
       "<style scoped>\n",
       "    .dataframe tbody tr th:only-of-type {\n",
       "        vertical-align: middle;\n",
       "    }\n",
       "\n",
       "    .dataframe tbody tr th {\n",
       "        vertical-align: top;\n",
       "    }\n",
       "\n",
       "    .dataframe thead th {\n",
       "        text-align: right;\n",
       "    }\n",
       "</style>\n",
       "<table border=\"1\" class=\"dataframe\">\n",
       "  <thead>\n",
       "    <tr style=\"text-align: right;\">\n",
       "      <th></th>\n",
       "      <th>sgd_num</th>\n",
       "      <th>sgd_date</th>\n",
       "      <th>importer_tin</th>\n",
       "      <th>declarant_code</th>\n",
       "      <th>office_cod</th>\n",
       "      <th>cty_origin</th>\n",
       "      <th>selected_colour</th>\n",
       "      <th>query_flag</th>\n",
       "      <th>nature_transaction</th>\n",
       "      <th>total_item_tax</th>\n",
       "      <th>...</th>\n",
       "      <th>net_mass</th>\n",
       "      <th>prc_nat</th>\n",
       "      <th>prc_ext</th>\n",
       "      <th>rat_customs_duty</th>\n",
       "      <th>mop</th>\n",
       "      <th>typ</th>\n",
       "      <th>hscode</th>\n",
       "      <th>container_no</th>\n",
       "      <th>mot_cod</th>\n",
       "      <th>status</th>\n",
       "    </tr>\n",
       "  </thead>\n",
       "  <tbody>\n",
       "    <tr>\n",
       "      <th>0</th>\n",
       "      <td>C1</td>\n",
       "      <td>01/01/2023</td>\n",
       "      <td>21362735-0001</td>\n",
       "      <td>C5320RC1514804</td>\n",
       "      <td>01TC</td>\n",
       "      <td>United States</td>\n",
       "      <td>Green</td>\n",
       "      <td>NaN</td>\n",
       "      <td>NaN</td>\n",
       "      <td>1902451</td>\n",
       "      <td>...</td>\n",
       "      <td>1850.0</td>\n",
       "      <td>846</td>\n",
       "      <td>4100</td>\n",
       "      <td>20</td>\n",
       "      <td>NaN</td>\n",
       "      <td>NaN</td>\n",
       "      <td>8703332000</td>\n",
       "      <td>NaN</td>\n",
       "      <td>1.0</td>\n",
       "      <td>Exited</td>\n",
       "    </tr>\n",
       "    <tr>\n",
       "      <th>1</th>\n",
       "      <td>C2</td>\n",
       "      <td>01/01/2023</td>\n",
       "      <td>22583426-0001</td>\n",
       "      <td>C5238RC1514968</td>\n",
       "      <td>01TC</td>\n",
       "      <td>United States</td>\n",
       "      <td>Green</td>\n",
       "      <td>NaN</td>\n",
       "      <td>NaN</td>\n",
       "      <td>818866</td>\n",
       "      <td>...</td>\n",
       "      <td>1420.0</td>\n",
       "      <td>0</td>\n",
       "      <td>4100</td>\n",
       "      <td>20</td>\n",
       "      <td>NaN</td>\n",
       "      <td>NaN</td>\n",
       "      <td>8703332000</td>\n",
       "      <td>NaN</td>\n",
       "      <td>1.0</td>\n",
       "      <td>Exited</td>\n",
       "    </tr>\n",
       "    <tr>\n",
       "      <th>2</th>\n",
       "      <td>C1</td>\n",
       "      <td>01/01/2023</td>\n",
       "      <td>12300359</td>\n",
       "      <td>C0957RC142420</td>\n",
       "      <td>05EN</td>\n",
       "      <td>Ethiopia</td>\n",
       "      <td>Red</td>\n",
       "      <td>NaN</td>\n",
       "      <td>NaN</td>\n",
       "      <td>0</td>\n",
       "      <td>...</td>\n",
       "      <td>49.0</td>\n",
       "      <td>404</td>\n",
       "      <td>4100</td>\n",
       "      <td>0</td>\n",
       "      <td>NaN</td>\n",
       "      <td>NaN</td>\n",
       "      <td>6309000000</td>\n",
       "      <td>NaN</td>\n",
       "      <td>4.0</td>\n",
       "      <td>Selected</td>\n",
       "    </tr>\n",
       "    <tr>\n",
       "      <th>3</th>\n",
       "      <td>C1</td>\n",
       "      <td>01/01/2023</td>\n",
       "      <td>00281516-0001</td>\n",
       "      <td>C5770RC901568</td>\n",
       "      <td>06OY</td>\n",
       "      <td>Brazil</td>\n",
       "      <td>Green</td>\n",
       "      <td>NaN</td>\n",
       "      <td>NaN</td>\n",
       "      <td>32888227</td>\n",
       "      <td>...</td>\n",
       "      <td>20000.0</td>\n",
       "      <td>0</td>\n",
       "      <td>4080</td>\n",
       "      <td>5</td>\n",
       "      <td>NaN</td>\n",
       "      <td>NaN</td>\n",
       "      <td>2401200000</td>\n",
       "      <td>0.0</td>\n",
       "      <td>NaN</td>\n",
       "      <td>Cleared</td>\n",
       "    </tr>\n",
       "    <tr>\n",
       "      <th>4</th>\n",
       "      <td>C1</td>\n",
       "      <td>01/01/2023</td>\n",
       "      <td>00281516-0001</td>\n",
       "      <td>C5770RC901568</td>\n",
       "      <td>06OY</td>\n",
       "      <td>Brazil</td>\n",
       "      <td>Green</td>\n",
       "      <td>NaN</td>\n",
       "      <td>NaN</td>\n",
       "      <td>32888227</td>\n",
       "      <td>...</td>\n",
       "      <td>20000.0</td>\n",
       "      <td>0</td>\n",
       "      <td>4080</td>\n",
       "      <td>5</td>\n",
       "      <td>NaN</td>\n",
       "      <td>NaN</td>\n",
       "      <td>2401200000</td>\n",
       "      <td>1.0</td>\n",
       "      <td>NaN</td>\n",
       "      <td>Cleared</td>\n",
       "    </tr>\n",
       "    <tr>\n",
       "      <th>...</th>\n",
       "      <td>...</td>\n",
       "      <td>...</td>\n",
       "      <td>...</td>\n",
       "      <td>...</td>\n",
       "      <td>...</td>\n",
       "      <td>...</td>\n",
       "      <td>...</td>\n",
       "      <td>...</td>\n",
       "      <td>...</td>\n",
       "      <td>...</td>\n",
       "      <td>...</td>\n",
       "      <td>...</td>\n",
       "      <td>...</td>\n",
       "      <td>...</td>\n",
       "      <td>...</td>\n",
       "      <td>...</td>\n",
       "      <td>...</td>\n",
       "      <td>...</td>\n",
       "      <td>...</td>\n",
       "      <td>...</td>\n",
       "      <td>...</td>\n",
       "    </tr>\n",
       "    <tr>\n",
       "      <th>57842</th>\n",
       "      <td>C999</td>\n",
       "      <td>10/01/2023</td>\n",
       "      <td>23293900-0001</td>\n",
       "      <td>C5226RC1616551</td>\n",
       "      <td>05PN</td>\n",
       "      <td>China</td>\n",
       "      <td>Green</td>\n",
       "      <td>NaN</td>\n",
       "      <td>NaN</td>\n",
       "      <td>4040355</td>\n",
       "      <td>...</td>\n",
       "      <td>1000.0</td>\n",
       "      <td>0</td>\n",
       "      <td>4000</td>\n",
       "      <td>10</td>\n",
       "      <td>NaN</td>\n",
       "      <td>NaN</td>\n",
       "      <td>3918100000</td>\n",
       "      <td>1.0</td>\n",
       "      <td>1.0</td>\n",
       "      <td>Exited</td>\n",
       "    </tr>\n",
       "    <tr>\n",
       "      <th>57843</th>\n",
       "      <td>C999</td>\n",
       "      <td>10/01/2023</td>\n",
       "      <td>23293900-0001</td>\n",
       "      <td>C5226RC1616551</td>\n",
       "      <td>05PN</td>\n",
       "      <td>China</td>\n",
       "      <td>Green</td>\n",
       "      <td>NaN</td>\n",
       "      <td>NaN</td>\n",
       "      <td>4040355</td>\n",
       "      <td>...</td>\n",
       "      <td>1000.0</td>\n",
       "      <td>0</td>\n",
       "      <td>4000</td>\n",
       "      <td>20</td>\n",
       "      <td>NaN</td>\n",
       "      <td>NaN</td>\n",
       "      <td>3918100000</td>\n",
       "      <td>1.0</td>\n",
       "      <td>1.0</td>\n",
       "      <td>Exited</td>\n",
       "    </tr>\n",
       "    <tr>\n",
       "      <th>57844</th>\n",
       "      <td>C999</td>\n",
       "      <td>10/01/2023</td>\n",
       "      <td>23293900-0001</td>\n",
       "      <td>C5226RC1616551</td>\n",
       "      <td>05PN</td>\n",
       "      <td>China</td>\n",
       "      <td>Green</td>\n",
       "      <td>NaN</td>\n",
       "      <td>NaN</td>\n",
       "      <td>4040355</td>\n",
       "      <td>...</td>\n",
       "      <td>7780.0</td>\n",
       "      <td>0</td>\n",
       "      <td>4000</td>\n",
       "      <td>10</td>\n",
       "      <td>NaN</td>\n",
       "      <td>NaN</td>\n",
       "      <td>9031800000</td>\n",
       "      <td>1.0</td>\n",
       "      <td>1.0</td>\n",
       "      <td>Exited</td>\n",
       "    </tr>\n",
       "    <tr>\n",
       "      <th>57845</th>\n",
       "      <td>C999</td>\n",
       "      <td>10/01/2023</td>\n",
       "      <td>23293900-0001</td>\n",
       "      <td>C5226RC1616551</td>\n",
       "      <td>05PN</td>\n",
       "      <td>China</td>\n",
       "      <td>Green</td>\n",
       "      <td>NaN</td>\n",
       "      <td>NaN</td>\n",
       "      <td>4040355</td>\n",
       "      <td>...</td>\n",
       "      <td>7780.0</td>\n",
       "      <td>0</td>\n",
       "      <td>4000</td>\n",
       "      <td>20</td>\n",
       "      <td>NaN</td>\n",
       "      <td>NaN</td>\n",
       "      <td>9031800000</td>\n",
       "      <td>1.0</td>\n",
       "      <td>1.0</td>\n",
       "      <td>Exited</td>\n",
       "    </tr>\n",
       "    <tr>\n",
       "      <th>57846</th>\n",
       "      <td>C6</td>\n",
       "      <td>10/01/2023</td>\n",
       "      <td>00416998-0001</td>\n",
       "      <td>C1301RC052428</td>\n",
       "      <td>06WR</td>\n",
       "      <td>Canada</td>\n",
       "      <td>Green</td>\n",
       "      <td>NaN</td>\n",
       "      <td>NaN</td>\n",
       "      <td>18598639</td>\n",
       "      <td>...</td>\n",
       "      <td>435.0</td>\n",
       "      <td>0</td>\n",
       "      <td>4000</td>\n",
       "      <td>5</td>\n",
       "      <td>NaN</td>\n",
       "      <td>NaN</td>\n",
       "      <td>1001190000</td>\n",
       "      <td>NaN</td>\n",
       "      <td>1.0</td>\n",
       "      <td>Exited</td>\n",
       "    </tr>\n",
       "  </tbody>\n",
       "</table>\n",
       "<p>57847 rows × 30 columns</p>\n",
       "</div>"
      ],
      "text/plain": [
       "      sgd_num    sgd_date   importer_tin  declarant_code office_cod  \\\n",
       "0          C1  01/01/2023  21362735-0001  C5320RC1514804       01TC   \n",
       "1          C2  01/01/2023  22583426-0001  C5238RC1514968       01TC   \n",
       "2          C1  01/01/2023       12300359   C0957RC142420       05EN   \n",
       "3          C1  01/01/2023  00281516-0001   C5770RC901568       06OY   \n",
       "4          C1  01/01/2023  00281516-0001   C5770RC901568       06OY   \n",
       "...       ...         ...            ...             ...        ...   \n",
       "57842    C999  10/01/2023  23293900-0001  C5226RC1616551       05PN   \n",
       "57843    C999  10/01/2023  23293900-0001  C5226RC1616551       05PN   \n",
       "57844    C999  10/01/2023  23293900-0001  C5226RC1616551       05PN   \n",
       "57845    C999  10/01/2023  23293900-0001  C5226RC1616551       05PN   \n",
       "57846      C6  10/01/2023  00416998-0001   C1301RC052428       06WR   \n",
       "\n",
       "          cty_origin selected_colour  query_flag  nature_transaction  \\\n",
       "0      United States           Green         NaN                 NaN   \n",
       "1      United States           Green         NaN                 NaN   \n",
       "2           Ethiopia             Red         NaN                 NaN   \n",
       "3             Brazil           Green         NaN                 NaN   \n",
       "4             Brazil           Green         NaN                 NaN   \n",
       "...              ...             ...         ...                 ...   \n",
       "57842          China           Green         NaN                 NaN   \n",
       "57843          China           Green         NaN                 NaN   \n",
       "57844          China           Green         NaN                 NaN   \n",
       "57845          China           Green         NaN                 NaN   \n",
       "57846         Canada           Green         NaN                 NaN   \n",
       "\n",
       "       total_item_tax  ...  net_mass  prc_nat  prc_ext  rat_customs_duty  mop  \\\n",
       "0             1902451  ...    1850.0      846     4100                20  NaN   \n",
       "1              818866  ...    1420.0        0     4100                20  NaN   \n",
       "2                   0  ...      49.0      404     4100                 0  NaN   \n",
       "3            32888227  ...   20000.0        0     4080                 5  NaN   \n",
       "4            32888227  ...   20000.0        0     4080                 5  NaN   \n",
       "...               ...  ...       ...      ...      ...               ...  ...   \n",
       "57842         4040355  ...    1000.0        0     4000                10  NaN   \n",
       "57843         4040355  ...    1000.0        0     4000                20  NaN   \n",
       "57844         4040355  ...    7780.0        0     4000                10  NaN   \n",
       "57845         4040355  ...    7780.0        0     4000                20  NaN   \n",
       "57846        18598639  ...     435.0        0     4000                 5  NaN   \n",
       "\n",
       "       typ      hscode  container_no  mot_cod    status  \n",
       "0      NaN  8703332000           NaN      1.0    Exited  \n",
       "1      NaN  8703332000           NaN      1.0    Exited  \n",
       "2      NaN  6309000000           NaN      4.0  Selected  \n",
       "3      NaN  2401200000           0.0      NaN   Cleared  \n",
       "4      NaN  2401200000           1.0      NaN   Cleared  \n",
       "...    ...         ...           ...      ...       ...  \n",
       "57842  NaN  3918100000           1.0      1.0    Exited  \n",
       "57843  NaN  3918100000           1.0      1.0    Exited  \n",
       "57844  NaN  9031800000           1.0      1.0    Exited  \n",
       "57845  NaN  9031800000           1.0      1.0    Exited  \n",
       "57846  NaN  1001190000           NaN      1.0    Exited  \n",
       "\n",
       "[57847 rows x 30 columns]"
      ]
     },
     "execution_count": 1,
     "metadata": {},
     "output_type": "execute_result"
    }
   ],
   "source": [
    "import pandas as pd\n",
    "import tensorflow as tf\n",
    "from tensorflow.keras.models import Sequential\n",
    "from tensorflow.keras.layers import Dense, Dropout\n",
    "from sklearn.preprocessing import StandardScaler, OneHotEncoder, LabelEncoder\n",
    "from sklearn.compose import ColumnTransformer\n",
    "from sklearn.model_selection import train_test_split\n",
    "import numpy as np\n",
    "import warnings\n",
    "warnings.filterwarnings('ignore')\n",
    "\n",
    "# Load data\n",
    "df = pd.read_csv('New_Data_Soft_Solution.csv')\n",
    "df"
   ]
  },
  {
   "cell_type": "code",
   "execution_count": 2,
   "metadata": {},
   "outputs": [
    {
     "data": {
      "text/plain": [
       "array(['Exited', 'Selected', 'Cleared', 'Assessed', 'Partially Exited',\n",
       "       'Cancelled'], dtype=object)"
      ]
     },
     "execution_count": 2,
     "metadata": {},
     "output_type": "execute_result"
    }
   ],
   "source": [
    "df.status.unique()"
   ]
  },
  {
   "cell_type": "code",
   "execution_count": 3,
   "metadata": {},
   "outputs": [
    {
     "data": {
      "text/plain": [
       "sgd_num                               0\n",
       "sgd_date                              0\n",
       "importer_tin                          0\n",
       "declarant_code                        0\n",
       "office_cod                            0\n",
       "cty_origin                            0\n",
       "selected_colour                      16\n",
       "query_flag                        50881\n",
       "nature_transaction                57847\n",
       "total_item_tax                        0\n",
       "total_assed_before_selectivity       10\n",
       "global_tax                            0\n",
       "gross_mass                            0\n",
       "cif                                   0\n",
       "number_items                          0\n",
       "number_of_packages                    0\n",
       "dpa_nam                               5\n",
       "fobval                                0\n",
       "item_tax                              0\n",
       "statastical_value                     0\n",
       "net_mass                              0\n",
       "prc_nat                               0\n",
       "prc_ext                               0\n",
       "rat_customs_duty                      0\n",
       "mop                               55483\n",
       "typ                               55483\n",
       "hscode                                0\n",
       "container_no                      20501\n",
       "mot_cod                             448\n",
       "status                                0\n",
       "dtype: int64"
      ]
     },
     "execution_count": 3,
     "metadata": {},
     "output_type": "execute_result"
    }
   ],
   "source": [
    "df.isna().sum()"
   ]
  },
  {
   "cell_type": "code",
   "execution_count": 4,
   "metadata": {},
   "outputs": [],
   "source": [
    "df.dropna(subset='dpa_nam', inplace=True)"
   ]
  },
  {
   "cell_type": "code",
   "execution_count": 5,
   "metadata": {},
   "outputs": [
    {
     "data": {
      "text/plain": [
       "sgd_num                               0\n",
       "sgd_date                              0\n",
       "importer_tin                          0\n",
       "declarant_code                        0\n",
       "office_cod                            0\n",
       "cty_origin                            0\n",
       "selected_colour                      16\n",
       "query_flag                        50876\n",
       "nature_transaction                57842\n",
       "total_item_tax                        0\n",
       "total_assed_before_selectivity       10\n",
       "global_tax                            0\n",
       "gross_mass                            0\n",
       "cif                                   0\n",
       "number_items                          0\n",
       "number_of_packages                    0\n",
       "dpa_nam                               0\n",
       "fobval                                0\n",
       "item_tax                              0\n",
       "statastical_value                     0\n",
       "net_mass                              0\n",
       "prc_nat                               0\n",
       "prc_ext                               0\n",
       "rat_customs_duty                      0\n",
       "mop                               55478\n",
       "typ                               55478\n",
       "hscode                                0\n",
       "container_no                      20501\n",
       "mot_cod                             448\n",
       "status                                0\n",
       "dtype: int64"
      ]
     },
     "execution_count": 5,
     "metadata": {},
     "output_type": "execute_result"
    }
   ],
   "source": [
    "df.isnull().sum()"
   ]
  },
  {
   "cell_type": "code",
   "execution_count": 6,
   "metadata": {},
   "outputs": [
    {
     "data": {
      "text/plain": [
       "array([nan,  1.])"
      ]
     },
     "execution_count": 6,
     "metadata": {},
     "output_type": "execute_result"
    }
   ],
   "source": [
    "df.query_flag.unique()"
   ]
  },
  {
   "cell_type": "code",
   "execution_count": 7,
   "metadata": {
    "id": "O3f1Jzv24pY8"
   },
   "outputs": [],
   "source": [
    "# Data cleaning and preprocessing\n",
    "df.drop(columns=['nature_transaction', 'sgd_date', 'sgd_num'], inplace=True)\n",
    "df['selected_colour'].fillna('Unknown', inplace=True)\n",
    "df.fillna(0, inplace=True)\n",
    "df['mop'].fillna(0, inplace=True)\n",
    "df['typ'].fillna('Unknown', inplace=True)"
   ]
  },
  {
   "cell_type": "code",
   "execution_count": 8,
   "metadata": {},
   "outputs": [
    {
     "data": {
      "text/plain": [
       "array([0., 1.])"
      ]
     },
     "execution_count": 8,
     "metadata": {},
     "output_type": "execute_result"
    }
   ],
   "source": [
    "df.query_flag.unique()"
   ]
  },
  {
   "cell_type": "code",
   "execution_count": 9,
   "metadata": {},
   "outputs": [
    {
     "data": {
      "text/plain": [
       "importer_tin                      0\n",
       "declarant_code                    0\n",
       "office_cod                        0\n",
       "cty_origin                        0\n",
       "selected_colour                   0\n",
       "query_flag                        0\n",
       "total_item_tax                    0\n",
       "total_assed_before_selectivity    0\n",
       "global_tax                        0\n",
       "gross_mass                        0\n",
       "cif                               0\n",
       "number_items                      0\n",
       "number_of_packages                0\n",
       "dpa_nam                           0\n",
       "fobval                            0\n",
       "item_tax                          0\n",
       "statastical_value                 0\n",
       "net_mass                          0\n",
       "prc_nat                           0\n",
       "prc_ext                           0\n",
       "rat_customs_duty                  0\n",
       "mop                               0\n",
       "typ                               0\n",
       "hscode                            0\n",
       "container_no                      0\n",
       "mot_cod                           0\n",
       "status                            0\n",
       "dtype: int64"
      ]
     },
     "execution_count": 9,
     "metadata": {},
     "output_type": "execute_result"
    }
   ],
   "source": [
    "df.isna().sum()"
   ]
  },
  {
   "cell_type": "code",
   "execution_count": 10,
   "metadata": {
    "colab": {
     "base_uri": "https://localhost:8080/"
    },
    "id": "Kf6oadbb_sm7",
    "outputId": "6d4ff358-48f1-4197-9263-bed4ccf6d136"
   },
   "outputs": [
    {
     "data": {
      "text/plain": [
       "query_flag                        float64\n",
       "total_assed_before_selectivity    float64\n",
       "gross_mass                        float64\n",
       "net_mass                          float64\n",
       "mop                               float64\n",
       "container_no                      float64\n",
       "mot_cod                           float64\n",
       "dtype: object"
      ]
     },
     "execution_count": 10,
     "metadata": {},
     "output_type": "execute_result"
    }
   ],
   "source": [
    "df.dtypes[df.dtypes == 'float64']"
   ]
  },
  {
   "cell_type": "code",
   "execution_count": 11,
   "metadata": {
    "colab": {
     "base_uri": "https://localhost:8080/"
    },
    "id": "XWM0udCtAwMl",
    "outputId": "66c093fd-d208-4425-abf1-31177ae1f031"
   },
   "outputs": [
    {
     "data": {
      "text/plain": [
       "total_item_tax        int64\n",
       "global_tax            int64\n",
       "cif                   int64\n",
       "number_items          int64\n",
       "number_of_packages    int64\n",
       "fobval                int64\n",
       "item_tax              int64\n",
       "statastical_value     int64\n",
       "prc_nat               int64\n",
       "prc_ext               int64\n",
       "rat_customs_duty      int64\n",
       "hscode                int64\n",
       "dtype: object"
      ]
     },
     "execution_count": 11,
     "metadata": {},
     "output_type": "execute_result"
    }
   ],
   "source": [
    "df.dtypes[df.dtypes == 'int64']"
   ]
  },
  {
   "cell_type": "code",
   "execution_count": 12,
   "metadata": {
    "colab": {
     "base_uri": "https://localhost:8080/"
    },
    "id": "243p9r34F03f",
    "outputId": "4c5d07ef-604e-4890-f63f-56a8920da585"
   },
   "outputs": [
    {
     "data": {
      "text/plain": [
       "importer_tin       object\n",
       "declarant_code     object\n",
       "office_cod         object\n",
       "cty_origin         object\n",
       "selected_colour    object\n",
       "dpa_nam            object\n",
       "typ                object\n",
       "status             object\n",
       "dtype: object"
      ]
     },
     "execution_count": 12,
     "metadata": {},
     "output_type": "execute_result"
    }
   ],
   "source": [
    "df.dtypes[df.dtypes == 'object' ]"
   ]
  },
  {
   "cell_type": "code",
   "execution_count": 13,
   "metadata": {},
   "outputs": [
    {
     "data": {
      "text/plain": [
       "Index(['importer_tin', 'declarant_code', 'office_cod', 'cty_origin',\n",
       "       'selected_colour', 'query_flag', 'total_item_tax',\n",
       "       'total_assed_before_selectivity', 'global_tax', 'gross_mass', 'cif',\n",
       "       'number_items', 'number_of_packages', 'dpa_nam', 'fobval', 'item_tax',\n",
       "       'statastical_value', 'net_mass', 'prc_nat', 'prc_ext',\n",
       "       'rat_customs_duty', 'mop', 'typ', 'hscode', 'container_no', 'mot_cod',\n",
       "       'status'],\n",
       "      dtype='object')"
      ]
     },
     "execution_count": 13,
     "metadata": {},
     "output_type": "execute_result"
    }
   ],
   "source": [
    "df.columns"
   ]
  },
  {
   "cell_type": "code",
   "execution_count": 14,
   "metadata": {},
   "outputs": [],
   "source": [
    "# Define features and target\n",
    "X = df.drop(columns=['query_flag'])  # Features\n",
    "y = df['query_flag']  # Target\n",
    "\n",
    "# Split the data\n",
    "X_train, X_test, y_train, y_test = train_test_split(X, y, test_size=0.2, random_state=42)"
   ]
  },
  {
   "cell_type": "code",
   "execution_count": 15,
   "metadata": {},
   "outputs": [],
   "source": [
    "# Non-numeric and numeric columns\n",
    "non_numeric_columns = ['importer_tin', 'declarant_code', 'office_cod', 'cty_origin', \n",
    "                       'selected_colour', 'hscode', 'mot_cod', 'typ', 'status', \n",
    "                       'dpa_nam', 'rat_customs_duty', 'prc_ext']\n",
    "numeric_columns = [col for col in X.columns if col not in non_numeric_columns]\n",
    "\n",
    "# Ensure non-numeric columns are treated as categorical\n",
    "X_train[non_numeric_columns] = X_train[non_numeric_columns].astype(str)\n",
    "X_test[non_numeric_columns] = X_test[non_numeric_columns].astype(str)"
   ]
  },
  {
   "cell_type": "code",
   "execution_count": 16,
   "metadata": {},
   "outputs": [],
   "source": [
    "# Label encoding for non-numeric columns\n",
    "def fit_and_transform_le(df_train, df_test, columns):\n",
    "    for col in columns:\n",
    "        le = LabelEncoder()\n",
    "        df_train[col] = le.fit_transform(df_train[col].astype(str))\n",
    "        \n",
    "        # Handling unseen labels in the test set\n",
    "        test_categories = set(df_test[col].astype(str).unique())\n",
    "        train_categories = set(le.classes_)\n",
    "        \n",
    "        unseen_categories = test_categories - train_categories\n",
    "        if unseen_categories:\n",
    "            # Add unseen categories to the encoder\n",
    "            le.classes_ = np.append(le.classes_, list(unseen_categories))\n",
    "        \n",
    "        df_test[col] = le.transform(df_test[col].astype(str))\n",
    "        \n",
    "    return df_train, df_test\n",
    "\n",
    "# Apply label encoding\n",
    "X_train, X_test = fit_and_transform_le(X_train, X_test, non_numeric_columns)\n",
    "\n",
    "# Scaling for numeric columns\n",
    "scaler = StandardScaler()\n",
    "X_train[numeric_columns] = scaler.fit_transform(X_train[numeric_columns])\n",
    "X_test[numeric_columns] = scaler.transform(X_test[numeric_columns])\n",
    "\n",
    "# Combine scaled and encoded features, retaining original column names\n",
    "X_train = pd.DataFrame(X_train, columns=X.columns)\n",
    "X_test = pd.DataFrame(X_test, columns=X.columns)"
   ]
  },
  {
   "cell_type": "markdown",
   "metadata": {
    "id": "Y1e2DjEsNf40"
   },
   "source": [
    "#### 2. Feature Selection with Firefly Algorithm\n",
    "\n",
    "We'll implement the Firefly Algorithm to select features by optimizing a simple objective function based on feature importance or correlation with the target.\n",
    "\n",
    "**Firefly Algorithm for Feature Selection**:"
   ]
  },
  {
   "cell_type": "code",
   "execution_count": 17,
   "metadata": {
    "id": "1ixF8rWANhB9"
   },
   "outputs": [
    {
     "name": "stdout",
     "output_type": "stream",
     "text": [
      "Selected Features:\n",
      "importer_tin: Yes (5.30%)\n",
      "office_cod: Yes (5.10%)\n",
      "cty_origin: Yes (5.10%)\n",
      "total_item_tax: Yes (5.10%)\n",
      "total_assed_before_selectivity: Yes (5.00%)\n",
      "fobval: Yes (5.20%)\n",
      "statastical_value: Yes (5.00%)\n",
      "net_mass: Yes (5.00%)\n",
      "prc_nat: Yes (5.00%)\n",
      "rat_customs_duty: Yes (5.00%)\n",
      "mop: Yes (5.00%)\n",
      "mot_cod: Yes (5.40%)\n",
      "status: Yes (5.00%)\n",
      "\n",
      "Non-Selected Features:\n",
      "declarant_code: No (0.20%)\n",
      "selected_colour: No (0.00%)\n",
      "global_tax: No (0.20%)\n",
      "gross_mass: No (0.00%)\n",
      "cif: No (0.00%)\n",
      "number_items: No (0.40%)\n",
      "number_of_packages: No (0.00%)\n",
      "dpa_nam: No (0.00%)\n",
      "item_tax: No (0.10%)\n",
      "prc_ext: No (0.00%)\n",
      "typ: No (0.70%)\n",
      "hscode: No (0.00%)\n",
      "container_no: No (0.10%)\n"
     ]
    }
   ],
   "source": [
    "from sklearn.linear_model import LogisticRegression\n",
    "from sklearn.metrics import accuracy_score\n",
    "\n",
    "# Define the Firefly Algorithm\n",
    "def firefly_algorithm(X, y, feature_names, n_fireflies=20, max_iter=50, alpha=0.5, beta0=1, gamma=1):\n",
    "    num_features = X.shape[1]\n",
    "    selection_counts = np.zeros(num_features)  # Track selection counts\n",
    "\n",
    "    def initialize_fireflies(n_fireflies, num_features):\n",
    "        return np.random.randint(2, size=(n_fireflies, num_features))\n",
    "\n",
    "    def attractiveness(firefly_i, firefly_j, gamma):\n",
    "        return beta0 * np.exp(-gamma * np.linalg.norm(firefly_i - firefly_j)**2)\n",
    "\n",
    "    def move_firefly(firefly_i, firefly_j, alpha, beta):\n",
    "        return firefly_i + beta * (firefly_j - firefly_i) + alpha * (np.random.rand(len(firefly_i)) - 0.5)\n",
    "\n",
    "    def evaluate_firefly(firefly):\n",
    "        selected_features = np.where(firefly == 1)[0]\n",
    "        if len(selected_features) == 0:\n",
    "            return 0\n",
    "        X_selected = X[:, selected_features]\n",
    "        model = LogisticRegression(solver='liblinear')\n",
    "        model.fit(X_selected, y)\n",
    "        y_pred = model.predict(X_selected)\n",
    "        return accuracy_score(y, y_pred)\n",
    "\n",
    "    fireflies = initialize_fireflies(n_fireflies, num_features)\n",
    "    for t in range(max_iter):\n",
    "        for i in range(n_fireflies):\n",
    "            for j in range(n_fireflies):\n",
    "                if i != j:\n",
    "                    if evaluate_firefly(fireflies[j]) > evaluate_firefly(fireflies[i]):\n",
    "                        beta = attractiveness(fireflies[i], fireflies[j], gamma)\n",
    "                        fireflies[i] = move_firefly(fireflies[i], fireflies[j], alpha, beta)\n",
    "                        fireflies[i] = np.clip(fireflies[i], 0, 1)  # Ensure binary values\n",
    "\n",
    "        # Track feature selection\n",
    "        for firefly in fireflies:\n",
    "            selection_counts += firefly\n",
    "\n",
    "    best_firefly = fireflies[np.argmax([evaluate_firefly(f) for f in fireflies])]\n",
    "\n",
    "    # Calculate selection percentages\n",
    "    selection_percentages = (selection_counts / (n_fireflies * max_iter)) * 100\n",
    "    selected_features = np.where(best_firefly == 1)[0]\n",
    "    selected_feature_names = feature_names[selected_features]\n",
    "    non_selected_feature_names = feature_names[~np.isin(range(num_features), selected_features)]\n",
    "\n",
    "    # Print feature selection results\n",
    "    print(\"Selected Features:\")\n",
    "    for feature in selected_feature_names:\n",
    "        print(f\"{feature}: Yes ({selection_percentages[feature_names == feature][0]:.2f}%)\")\n",
    "\n",
    "    print(\"\\nNon-Selected Features:\")\n",
    "    for feature in non_selected_feature_names:\n",
    "        print(f\"{feature}: No ({selection_percentages[feature_names == feature][0]:.2f}%)\")\n",
    "\n",
    "    return best_firefly, selection_percentages\n",
    "\n",
    "# Feature names\n",
    "feature_names = X_train.columns.values\n",
    "\n",
    "# Run Firefly Algorithm\n",
    "best_features, selection_percentages = firefly_algorithm(X_train.values, y_train.values, feature_names)"
   ]
  },
  {
   "cell_type": "markdown",
   "metadata": {
    "id": "Sk57Bk56NmKD"
   },
   "source": [
    "#### 3. Neural Network Optimization with Genetic Algorithm\n",
    "\n",
    "Using GA to optimize the weights of a neural network trained on selected features.\n",
    "\n",
    "**Genetic Algorithm for Neural Network Optimization**:"
   ]
  },
  {
   "cell_type": "code",
   "execution_count": 28,
   "metadata": {
    "id": "L81GjzWVNkuZ"
   },
   "outputs": [],
   "source": [
    "# Neural Network using Genetic Algorithm\n",
    "def create_nn(input_dim):\n",
    "    model = Sequential()\n",
    "    model.add(Dense(64, input_dim=input_dim, activation='relu'))\n",
    "    model.add(Dense(32, activation='relu'))\n",
    "    model.add(Dense(16, activation='relu'))\n",
    "    model.add(Dense(8, activation='relu'))\n",
    "    model.add(Dense(1, activation='sigmoid'))\n",
    "    model.compile(optimizer='adam', loss='binary_crossentropy', metrics=['accuracy'])\n",
    "    return model\n",
    "\n",
    "def genetic_algorithm(X, y, input_dim, population_size=20, generations=10, mutation_rate=0.1):\n",
    "    def initialize_population(population_size, input_dim):\n",
    "        return [create_nn(input_dim) for _ in range(population_size)]\n",
    "\n",
    "    def evaluate_population(population, X, y):\n",
    "        scores = []\n",
    "        for model in population:\n",
    "            model.fit(X, y, epochs=10, verbose=0)\n",
    "            score = model.evaluate(X, y, verbose=0)[1]  # Using accuracy\n",
    "            scores.append(score)\n",
    "        return scores\n",
    "\n",
    "    def crossover(parent1, parent2):\n",
    "        child1 = create_nn(input_dim)\n",
    "        child2 = create_nn(input_dim)\n",
    "        for layer in range(len(parent1.layers)):\n",
    "            weights1, biases1 = parent1.layers[layer].get_weights()\n",
    "            weights2, biases2 = parent2.layers[layer].get_weights()\n",
    "            midpoint = weights1.shape[1] // 2\n",
    "            new_weights1 = np.concatenate((weights1[:, :midpoint], weights2[:, midpoint:]), axis=1)\n",
    "            new_weights2 = np.concatenate((weights2[:, :midpoint], weights1[:, midpoint:]), axis=1)\n",
    "            child1.layers[layer].set_weights([new_weights1, biases1])\n",
    "            child2.layers[layer].set_weights([new_weights2, biases2])\n",
    "        return child1, child2\n",
    "\n",
    "    def mutate(model, mutation_rate):\n",
    "        for layer in model.layers:\n",
    "            weights, biases = layer.get_weights()\n",
    "            if np.random.rand() < mutation_rate:\n",
    "                weights += np.random.normal(0, 0.1, weights.shape)\n",
    "            layer.set_weights([weights, biases])\n",
    "\n",
    "    population = initialize_population(population_size, input_dim)\n",
    "    for generation in range(generations):\n",
    "        scores = evaluate_population(population, X, y)\n",
    "        print(f\"Generation {generation + 1} best accuracy: {max(scores):.4f}\")\n",
    "        new_population = []\n",
    "        for i in range(population_size // 2):\n",
    "            parent1, parent2 = select_parents(population, scores)\n",
    "            child1, child2 = crossover(parent1, parent2)\n",
    "            mutate(child1, mutation_rate)\n",
    "            mutate(child2, mutation_rate)\n",
    "            new_population.extend([child1, child2])\n",
    "        population = new_population\n",
    "    best_model = population[np.argmax(scores)]\n",
    "    return best_model\n",
    "\n",
    "def select_parents(population, scores):\n",
    "    idx = np.argsort(scores)\n",
    "    return population[idx[-1]], population[idx[-2]]\n"
   ]
  },
  {
   "cell_type": "markdown",
   "metadata": {},
   "source": [
    "4. Combining FA and GA\n",
    "First, use the Firefly Algorithm for feature selection, then pass the selected features to the Genetic Algorithm to optimize the neural network."
   ]
  },
  {
   "cell_type": "code",
   "execution_count": 29,
   "metadata": {
    "id": "9VJD1t4IN3-J"
   },
   "outputs": [
    {
     "name": "stdout",
     "output_type": "stream",
     "text": [
      "Generation 1 best accuracy: 0.9079\n",
      "Generation 2 best accuracy: 0.9175\n",
      "Generation 3 best accuracy: 0.9217\n",
      "Generation 4 best accuracy: 0.9235\n",
      "Generation 5 best accuracy: 0.9244\n",
      "Generation 6 best accuracy: 0.9252\n",
      "Generation 7 best accuracy: 0.9268\n",
      "Generation 8 best accuracy: 0.9251\n",
      "Generation 9 best accuracy: 0.9262\n",
      "Generation 10 best accuracy: 0.9286\n",
      "Test accuracy: 0.9263\n",
      "Test Loss: 0.1820094734430313\n"
     ]
    }
   ],
   "source": [
    "# Select features using best firefly\n",
    "selected_features_idx = np.where(best_features == 1)[0]\n",
    "X_train_selected = X_train.iloc[:, selected_features_idx].values\n",
    "X_test_selected = X_test.iloc[:, selected_features_idx].values\n",
    "\n",
    "# Neural Network Optimization using GA\n",
    "best_nn = genetic_algorithm(X_train_selected, y_train, input_dim=X_train_selected.shape[1])\n",
    "\n",
    "# Evaluate the best neural network model on the test set\n",
    "test_loss, test_accuracy = best_nn.evaluate(X_test_selected, y_test, verbose=0)\n",
    "print(f\"Test accuracy: {test_accuracy:.4f}\")\n",
    "print(f'Test Loss: {test_loss}')"
   ]
  },
  {
   "cell_type": "code",
   "execution_count": 30,
   "metadata": {},
   "outputs": [
    {
     "name": "stdout",
     "output_type": "stream",
     "text": [
      "\u001b[1m362/362\u001b[0m \u001b[32m━━━━━━━━━━━━━━━━━━━━\u001b[0m\u001b[37m\u001b[0m \u001b[1m1s\u001b[0m 2ms/step\n",
      "Classification Report:\n",
      "               precision    recall  f1-score   support\n",
      "\n",
      "         0.0       0.93      0.99      0.96     10166\n",
      "         1.0       0.89      0.44      0.59      1403\n",
      "\n",
      "    accuracy                           0.93     11569\n",
      "   macro avg       0.91      0.72      0.78     11569\n",
      "weighted avg       0.92      0.93      0.92     11569\n",
      "\n",
      "Confusion Matrix:\n",
      "[[10092    74]\n",
      " [  779   624]]\n"
     ]
    },
    {
     "data": {
      "image/png": "[encoded data removed]",
      "text/plain": [
       "<Figure size 640x480 with 2 Axes>"
      ]
     },
     "metadata": {},
     "output_type": "display_data"
    }
   ],
   "source": [
    "from sklearn.metrics import confusion_matrix, ConfusionMatrixDisplay\n",
    "from sklearn.metrics import classification_report\n",
    "import matplotlib.pyplot as plt\n",
    "\n",
    "# Predict probabilities with the best neural network model\n",
    "y_pred = best_nn.predict(X_test_selected)\n",
    "\n",
    "# Convert probabilities to binary predictions\n",
    "y_pred_class = (y_pred > 0.5).astype(int)\n",
    "\n",
    "# Generate the classification report\n",
    "print(\"Classification Report:\\n\", classification_report(y_test, y_pred_class))\n",
    "\n",
    "# Compute the confusion matrix\n",
    "conf_matrix = confusion_matrix(y_test, y_pred_class)\n",
    "\n",
    "# Print the confusion matrix\n",
    "print(\"Confusion Matrix:\")\n",
    "print(conf_matrix)\n",
    "\n",
    "# Plot the confusion matrix\n",
    "disp = ConfusionMatrixDisplay(confusion_matrix=conf_matrix)\n",
    "disp.plot(cmap=plt.cm.Blues)\n",
    "\n",
    "plt.title(\"Confusion Matrix\")\n",
    "plt.show()"
   ]
  }
 ],
 "metadata": {
  "accelerator": "GPU",
  "colab": {
   "gpuType": "T4",
   "provenance": []
  },
  "kernelspec": {
   "display_name": "nameofthevenv",
   "language": "python",
   "name": "nameofthevenv"
  },
  "language_info": {
   "codemirror_mode": {
    "name": "ipython",
    "version": 3
   },
   "file_extension": ".py",
   "mimetype": "text/x-python",
   "name": "python",
   "nbconvert_exporter": "python",
   "pygments_lexer": "ipython3",
   "version": "3.12.2"
  }
 },
 "nbformat": 4,
 "nbformat_minor": 4
}
